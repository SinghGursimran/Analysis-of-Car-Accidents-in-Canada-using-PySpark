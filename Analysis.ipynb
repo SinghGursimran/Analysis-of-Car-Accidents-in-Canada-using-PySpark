{
 "cells": [
  {
   "cell_type": "markdown",
   "metadata": {},
   "source": [
    "# Analyzing Car Accidents in Canada from 1999 - 2014 using a distributed environment in PySpark"
   ]
  },
  {
   "cell_type": "code",
   "execution_count": 1,
   "metadata": {},
   "outputs": [],
   "source": [
    "import pyspark as py\n",
    "import pandas as pd\n",
    "from pyspark.sql.functions import *\n",
    "from pyspark.sql.types import *\n",
    "from pyspark.sql import SparkSession"
   ]
  },
  {
   "cell_type": "code",
   "execution_count": 2,
   "metadata": {},
   "outputs": [
    {
     "name": "stdout",
     "output_type": "stream",
     "text": [
      "+------+------+------+------+-----+------+------+------+------+------+------+------+----+------+------+----+-----+-----+-----+------+------+------+\n",
      "|C_YEAR|C_MNTH|C_WDAY|C_HOUR|C_SEV|C_VEHS|C_CONF|C_RCFG|C_WTHR|C_RSUR|C_RALN|C_TRAF|V_ID|V_TYPE|V_YEAR|P_ID|P_SEX|P_AGE|P_PSN|P_ISEV|P_SAFE|P_USER|\n",
      "+------+------+------+------+-----+------+------+------+------+------+------+------+----+------+------+----+-----+-----+-----+------+------+------+\n",
      "|1999  |01    |1     |20    |2    |02    |34    |UU    |1     |5     |3     |03    |01  |06    |1990  |01  |M    |41   |11   |1     |UU    |1     |\n",
      "|1999  |01    |1     |20    |2    |02    |34    |UU    |1     |5     |3     |03    |02  |01    |1987  |01  |M    |19   |11   |1     |UU    |1     |\n",
      "|1999  |01    |1     |20    |2    |02    |34    |UU    |1     |5     |3     |03    |02  |01    |1987  |02  |F    |20   |13   |2     |02    |2     |\n",
      "|1999  |01    |1     |08    |2    |01    |01    |UU    |5     |3     |6     |18    |01  |01    |1986  |01  |M    |46   |11   |1     |UU    |1     |\n",
      "|1999  |01    |1     |08    |2    |01    |01    |UU    |5     |3     |6     |18    |99  |NN    |NNNN  |01  |M    |05   |99   |2     |UU    |3     |\n",
      "|1999  |01    |1     |17    |2    |03    |QQ    |QQ    |1     |2     |1     |01    |01  |01    |1984  |01  |M    |28   |11   |1     |UU    |1     |\n",
      "|1999  |01    |1     |17    |2    |03    |QQ    |QQ    |1     |2     |1     |01    |02  |01    |1991  |01  |M    |21   |11   |1     |UU    |1     |\n",
      "|1999  |01    |1     |17    |2    |03    |QQ    |QQ    |1     |2     |1     |01    |02  |01    |1991  |02  |F    |UU   |13   |2     |UU    |2     |\n",
      "|1999  |01    |1     |17    |2    |03    |QQ    |QQ    |1     |2     |1     |01    |03  |01    |1992  |01  |M    |UU   |11   |2     |UU    |1     |\n",
      "|1999  |01    |1     |15    |2    |01    |04    |UU    |1     |5     |U     |UU    |01  |01    |1997  |01  |M    |61   |11   |1     |UU    |1     |\n",
      "+------+------+------+------+-----+------+------+------+------+------+------+------+----+------+------+----+-----+-----+-----+------+------+------+\n",
      "only showing top 10 rows\n",
      "\n"
     ]
    }
   ],
   "source": [
    "spark = SparkSession.builder.appName('analysis').getOrCreate()\n",
    "df = spark.read.csv('NCDB_1999_to_2014.csv',header=True)\n",
    "df.show(10,False)"
   ]
  },
  {
   "cell_type": "code",
   "execution_count": 3,
   "metadata": {},
   "outputs": [
    {
     "name": "stdout",
     "output_type": "stream",
     "text": [
      "Total Rows in Dataset: 5860405\n"
     ]
    }
   ],
   "source": [
    "print(\"Total Rows in Dataset:\",df.select(\"*\").count())"
   ]
  },
  {
   "cell_type": "code",
   "execution_count": 4,
   "metadata": {},
   "outputs": [
    {
     "name": "stdout",
     "output_type": "stream",
     "text": [
      "Name of Columns - Printing for reference\n"
     ]
    },
    {
     "data": {
      "text/plain": [
       "['C_YEAR',\n",
       " 'C_MNTH',\n",
       " 'C_WDAY',\n",
       " 'C_HOUR',\n",
       " 'C_SEV',\n",
       " 'C_VEHS',\n",
       " 'C_CONF',\n",
       " 'C_RCFG',\n",
       " 'C_WTHR',\n",
       " 'C_RSUR',\n",
       " 'C_RALN',\n",
       " 'C_TRAF',\n",
       " 'V_ID',\n",
       " 'V_TYPE',\n",
       " 'V_YEAR',\n",
       " 'P_ID',\n",
       " 'P_SEX',\n",
       " 'P_AGE',\n",
       " 'P_PSN',\n",
       " 'P_ISEV',\n",
       " 'P_SAFE',\n",
       " 'P_USER']"
      ]
     },
     "execution_count": 4,
     "metadata": {},
     "output_type": "execute_result"
    }
   ],
   "source": [
    "print(\"Name of Columns - Printing for reference\")\n",
    "df.schema.names"
   ]
  },
  {
   "cell_type": "code",
   "execution_count": 5,
   "metadata": {},
   "outputs": [],
   "source": [
    "###################\n",
    "###Cleaning Data###\n",
    "###################\n",
    "df = df.select(\"*\").filter(col(\"C_MNTH\").cast(\"int\").isNotNull())"
   ]
  },
  {
   "cell_type": "markdown",
   "metadata": {},
   "source": [
    "# Total No. of Collisions together for a month."
   ]
  },
  {
   "cell_type": "code",
   "execution_count": 114,
   "metadata": {},
   "outputs": [
    {
     "name": "stdout",
     "output_type": "stream",
     "text": [
      "+-----+------+\n",
      "|Month|count |\n",
      "+-----+------+\n",
      "|01   |499874|\n",
      "|02   |423287|\n",
      "|03   |417814|\n",
      "|04   |392533|\n",
      "|05   |468235|\n",
      "|06   |520010|\n",
      "|07   |537693|\n",
      "|08   |547045|\n",
      "|09   |512790|\n",
      "|10   |515911|\n",
      "|11   |499080|\n",
      "|12   |525748|\n",
      "+-----+------+\n",
      "\n"
     ]
    }
   ],
   "source": [
    "collisions_month_together = df.select(col(\"C_MNTH\").alias(\"Month\")).groupBy(\"Month\").count().sort(\"Month\")\n",
    "collisions_month_together.show(collisions_month_together.count(),False)"
   ]
  },
  {
   "cell_type": "code",
   "execution_count": 115,
   "metadata": {},
   "outputs": [],
   "source": [
    "collisions_month_together_pandas_df = collisions_month_together.select(\"*\").toPandas()"
   ]
  },
  {
   "cell_type": "code",
   "execution_count": 116,
   "metadata": {
    "scrolled": true
   },
   "outputs": [
    {
     "data": {
      "image/png": "[encoded data removed]",
      "text/plain": [
       "<Figure size 1080x360 with 1 Axes>"
      ]
     },
     "metadata": {},
     "output_type": "display_data"
    }
   ],
   "source": [
    "collisions_month_together = collisions_month_together_pandas_df.plot(figsize=(15,5),title='Collisions together over a month',color='red')\n",
    "collisions_month_together.set_xlabel(\"Month\")\n",
    "collisions_month_together.set_ylabel(\"Number of collisions\");"
   ]
  },
  {
   "cell_type": "markdown",
   "metadata": {},
   "source": [
    "# Collisions grouped by the Day of Week"
   ]
  },
  {
   "cell_type": "code",
   "execution_count": 122,
   "metadata": {},
   "outputs": [
    {
     "name": "stdout",
     "output_type": "stream",
     "text": [
      "+---+------+\n",
      "|Day|count |\n",
      "+---+------+\n",
      "|1  |776012|\n",
      "|2  |816265|\n",
      "|3  |825560|\n",
      "|4  |869653|\n",
      "|5  |999725|\n",
      "|6  |867188|\n",
      "|7  |704679|\n",
      "+---+------+\n",
      "\n"
     ]
    }
   ],
   "source": [
    "collisions_week_together = df.select(col(\"C_WDAY\").alias(\"Day\")).filter(col(\"Day\") != \"U\").groupBy(\"Day\").count().sort(\"Day\")\n",
    "collisions_week_together.show(collisions_week_together.count(),False)"
   ]
  },
  {
   "cell_type": "code",
   "execution_count": 123,
   "metadata": {},
   "outputs": [],
   "source": [
    "collisions_week_together_pandas_df = collisions_week_together.select(\"*\").toPandas()"
   ]
  },
  {
   "cell_type": "code",
   "execution_count": 143,
   "metadata": {},
   "outputs": [
    {
     "data": {
      "image/png": "[encoded data removed]",
      "text/plain": [
       "<Figure size 1080x360 with 1 Axes>"
      ]
     },
     "metadata": {},
     "output_type": "display_data"
    }
   ],
   "source": [
    "collisions_week_together = collisions_week_together_pandas_df.plot.bar(figsize=(15,5),title='Collisions together over a month',color='green')\n",
    "collisions_week_together.set_xlabel(\"Day\")\n",
    "collisions_week_together.set_ylabel(\"Number of collisions\");"
   ]
  },
  {
   "cell_type": "markdown",
   "metadata": {},
   "source": [
    "# Collisions grouped by the Hour of Day"
   ]
  },
  {
   "cell_type": "code",
   "execution_count": 144,
   "metadata": {},
   "outputs": [
    {
     "name": "stdout",
     "output_type": "stream",
     "text": [
      "+----+------+\n",
      "|Hour|count |\n",
      "+----+------+\n",
      "|00  |88477 |\n",
      "|01  |73379 |\n",
      "|02  |77496 |\n",
      "|03  |64036 |\n",
      "|04  |39815 |\n",
      "|05  |44950 |\n",
      "|06  |106083|\n",
      "|07  |207963|\n",
      "|08  |302823|\n",
      "|09  |227623|\n",
      "|10  |248978|\n",
      "|11  |301912|\n",
      "|12  |368272|\n",
      "|13  |367313|\n",
      "|14  |397339|\n",
      "|15  |492726|\n",
      "|16  |519589|\n",
      "|17  |500199|\n",
      "|18  |375889|\n",
      "|19  |281854|\n",
      "|20  |217270|\n",
      "|21  |204317|\n",
      "|22  |164872|\n",
      "|23  |127692|\n",
      "+----+------+\n",
      "\n"
     ]
    }
   ],
   "source": [
    "collisions_hour_together = df.select(col(\"C_HOUR\").alias(\"Hour\")).filter(col(\"Hour\") != \"UU\").groupBy(\"Hour\").count().sort(\"Hour\")\n",
    "collisions_hour_together.show(collisions_hour_together.count(),False)"
   ]
  },
  {
   "cell_type": "code",
   "execution_count": 145,
   "metadata": {},
   "outputs": [],
   "source": [
    "collisions_hour_together_pandas_df = collisions_hour_together.select(\"*\").toPandas()"
   ]
  },
  {
   "cell_type": "code",
   "execution_count": 146,
   "metadata": {},
   "outputs": [
    {
     "data": {
      "image/png": "[encoded data removed]",
      "text/plain": [
       "<Figure size 1080x360 with 1 Axes>"
      ]
     },
     "metadata": {},
     "output_type": "display_data"
    }
   ],
   "source": [
    "collisions_hour_together = collisions_hour_together_pandas_df.plot.bar(figsize=(15,5), label = \"Bar\" , title='Collisions together over a month',color='blue')\n",
    "collisions_hour_together_pandas_df.plot(ax = collisions_hour_together, figsize=(15,5), label = \"Line\", title='Collisions together over a month',color='red')\n",
    "\n",
    "collisions_hour_together.set_xlabel(\"Hour\")\n",
    "collisions_hour_together.set_ylabel(\"Number of collisions\");"
   ]
  },
  {
   "cell_type": "markdown",
   "metadata": {},
   "source": [
    "# Total No. of collisions in a month for each month seperately"
   ]
  },
  {
   "cell_type": "code",
   "execution_count": 30,
   "metadata": {},
   "outputs": [
    {
     "name": "stdout",
     "output_type": "stream",
     "text": [
      "+-------+-----+\n",
      "|Date   |count|\n",
      "+-------+-----+\n",
      "|1999-10|36269|\n",
      "|2013-05|25633|\n",
      "|2009-07|30136|\n",
      "|1999-11|34859|\n",
      "|2002-11|36328|\n",
      "|2013-09|28550|\n",
      "|2007-05|29243|\n",
      "|2010-08|31665|\n",
      "|2008-02|27352|\n",
      "|2009-01|29159|\n",
      "|2005-07|36104|\n",
      "|2005-09|33136|\n",
      "|2000-05|33618|\n",
      "|2001-12|38489|\n",
      "|2013-12|28415|\n",
      "|2004-05|30252|\n",
      "|2006-07|34880|\n",
      "|2010-11|29474|\n",
      "|2003-02|31473|\n",
      "|2013-06|27164|\n",
      "|2001-06|36270|\n",
      "|2005-12|35342|\n",
      "|2006-05|31240|\n",
      "|2008-09|28880|\n",
      "|2006-04|26243|\n",
      "|2007-08|33913|\n",
      "|2010-02|22557|\n",
      "|1999-06|37029|\n",
      "|2001-05|33579|\n",
      "|2005-02|26277|\n",
      "|2001-11|34228|\n",
      "|2000-08|38389|\n",
      "|2004-04|25101|\n",
      "|2006-09|33344|\n",
      "|2002-04|27825|\n",
      "|2003-07|36680|\n",
      "|2010-04|23968|\n",
      "|2002-03|32973|\n",
      "|2011-05|24768|\n",
      "|2000-02|30451|\n",
      "|1999-02|26538|\n",
      "|2000-01|35677|\n",
      "|1999-05|35481|\n",
      "|2002-12|38001|\n",
      "|2012-08|30218|\n",
      "|2004-02|27082|\n",
      "|2012-02|22233|\n",
      "|2006-03|26718|\n",
      "|2010-03|21511|\n",
      "|2000-07|38944|\n",
      "|2001-10|35870|\n",
      "|2004-11|31282|\n",
      "|2007-07|33728|\n",
      "|2012-04|21370|\n",
      "|2003-12|34459|\n",
      "|2010-01|25533|\n",
      "|2010-09|29620|\n",
      "|2012-05|26634|\n",
      "|2005-10|33054|\n",
      "|2006-08|35926|\n",
      "|2008-08|31307|\n",
      "|2009-10|29326|\n",
      "|2001-04|27632|\n",
      "|2007-12|31138|\n",
      "|2005-11|33305|\n",
      "|2010-06|30898|\n",
      "|2005-01|33696|\n",
      "|1999-01|33537|\n",
      "|2002-09|36893|\n",
      "|2004-10|35165|\n",
      "|2008-05|26234|\n",
      "|2012-12|28509|\n",
      "|2012-07|29728|\n",
      "|2000-09|37870|\n",
      "|2002-06|37271|\n",
      "|2011-03|23316|\n",
      "|2014-01|28417|\n",
      "|2010-07|31648|\n",
      "|2006-10|34370|\n",
      "|2005-05|30494|\n",
      "|2014-03|21775|\n",
      "|2001-03|30152|\n",
      "|2014-08|27153|\n",
      "|2007-09|32036|\n",
      "|2011-01|28813|\n",
      "|2013-11|27523|\n",
      "|2014-02|23268|\n",
      "|1999-09|36476|\n",
      "|2012-01|27034|\n",
      "|2003-01|39083|\n",
      "|2008-06|29287|\n",
      "|2009-08|31605|\n",
      "|2000-12|39983|\n",
      "|2008-04|22291|\n",
      "|2001-01|31305|\n",
      "|2006-02|26996|\n",
      "|2011-11|28833|\n",
      "|2012-11|27485|\n",
      "|2013-02|22173|\n",
      "|2000-10|35893|\n",
      "|2005-06|34906|\n",
      "|2008-12|30752|\n",
      "|2014-09|26394|\n",
      "|2000-03|27787|\n",
      "|2001-08|39224|\n",
      "|2004-06|33947|\n",
      "|2007-01|30923|\n",
      "|2003-05|32172|\n",
      "|2007-02|29953|\n",
      "|2002-08|40450|\n",
      "|2006-11|32369|\n",
      "|2012-06|28580|\n",
      "|2013-07|29333|\n",
      "|2003-03|30486|\n",
      "|2009-11|26886|\n",
      "|2014-05|22057|\n",
      "|2000-04|29691|\n",
      "|2000-11|35212|\n",
      "|2006-01|29076|\n",
      "|2012-09|28490|\n",
      "|1999-12|37466|\n",
      "|1999-07|38808|\n",
      "|2011-08|29593|\n",
      "|2002-02|29239|\n",
      "|2007-10|31764|\n",
      "|2002-10|36276|\n",
      "|2005-04|26779|\n",
      "|2006-12|32570|\n",
      "|2011-04|20851|\n",
      "|2004-01|38445|\n",
      "|2011-09|28604|\n",
      "|2003-08|36775|\n",
      "|2013-08|29719|\n",
      "|2002-01|33208|\n",
      "|2011-07|29506|\n",
      "|2011-10|28373|\n",
      "|2004-12|36382|\n",
      "|2008-11|29018|\n",
      "|2014-11|26812|\n",
      "|2004-03|26519|\n",
      "|1999-08|39171|\n",
      "|2004-08|35915|\n",
      "|2001-02|30620|\n",
      "|2009-12|29844|\n",
      "|2003-09|34473|\n",
      "|2000-06|38534|\n",
      "|2007-06|32769|\n",
      "|2008-07|29935|\n",
      "|2014-04|17841|\n",
      "|2014-10|27470|\n",
      "|2010-05|28263|\n",
      "|2003-11|33902|\n",
      "|2009-09|29915|\n",
      "|2011-02|24676|\n",
      "|2011-06|28235|\n",
      "|2009-05|25890|\n",
      "|2014-12|25551|\n",
      "|2013-03|22214|\n",
      "|2007-03|26949|\n",
      "|2013-10|28912|\n",
      "|2014-06|24271|\n",
      "|2001-07|37208|\n",
      "|2003-04|26694|\n",
      "|2010-12|29309|\n",
      "|2012-10|28809|\n",
      "|2003-06|36012|\n",
      "|2014-07|26579|\n",
      "|1999-04|28409|\n",
      "|2003-10|34823|\n",
      "|2005-08|36022|\n",
      "|2007-11|31564|\n",
      "|2011-12|29538|\n",
      "|2005-03|27349|\n",
      "|2009-04|22985|\n",
      "|2009-03|22521|\n",
      "|2013-01|27054|\n",
      "|1999-03|29454|\n",
      "|2002-07|38838|\n",
      "|2001-09|34791|\n",
      "|2008-01|28914|\n",
      "|2002-05|32677|\n",
      "|2010-10|30070|\n",
      "|2004-09|33318|\n",
      "|2009-06|30069|\n",
      "|2013-04|20342|\n",
      "|2012-03|23287|\n",
      "|2007-04|24511|\n",
      "|2008-03|24803|\n",
      "|2009-02|22399|\n",
      "|2008-10|29467|\n",
      "|2004-07|35638|\n",
      "|2006-06|34768|\n",
      "+-------+-----+\n",
      "\n"
     ]
    }
   ],
   "source": [
    "collisions_month = df.select(concat(col(\"C_YEAR\"), lit(\"-\"), col(\"C_MNTH\")).alias(\"Date\")).groupBy(\"Date\").count()\n",
    "collisions_month.show(collisions_month.count(),False)"
   ]
  },
  {
   "cell_type": "code",
   "execution_count": 39,
   "metadata": {},
   "outputs": [],
   "source": [
    "collisions_month_pandas_df = collisions_month.select(\"*\").toPandas()"
   ]
  },
  {
   "cell_type": "code",
   "execution_count": 43,
   "metadata": {},
   "outputs": [
    {
     "data": {
      "image/png": "[encoded data removed]",
      "text/plain": [
       "<Figure size 1080x360 with 1 Axes>"
      ]
     },
     "metadata": {},
     "output_type": "display_data"
    }
   ],
   "source": [
    "plot_collisions_month = collisions_month_pandas_df.plot(figsize=(15,5),x=\"Date\",y=\"count\",title='Collisions each month',color='red')\n",
    "plot_collisions_month.set_xlabel(\"Month\")\n",
    "plot_collisions_month.set_ylabel(\"Number of collisions\");"
   ]
  },
  {
   "cell_type": "markdown",
   "metadata": {},
   "source": [
    "# No. of collisions grouped by severity in a month"
   ]
  },
  {
   "cell_type": "code",
   "execution_count": 69,
   "metadata": {},
   "outputs": [
    {
     "name": "stdout",
     "output_type": "stream",
     "text": [
      "+-------+-----+-----+\n",
      "|Date   |C_SEV|count|\n",
      "+-------+-----+-----+\n",
      "|1999-07|1    |763  |\n",
      "|2006-08|1    |768  |\n",
      "|2003-07|1    |808  |\n",
      "|2012-03|1    |424  |\n",
      "|2008-11|1    |505  |\n",
      "|1999-01|1    |433  |\n",
      "|2002-09|1    |668  |\n",
      "|2014-09|1    |406  |\n",
      "|2005-06|1    |692  |\n",
      "|2007-12|1    |609  |\n",
      "|2008-01|1    |493  |\n",
      "|2011-03|1    |332  |\n",
      "|2003-08|1    |760  |\n",
      "|2000-10|1    |617  |\n",
      "|2003-02|1    |347  |\n",
      "|2005-02|1    |403  |\n",
      "|2012-01|1    |431  |\n",
      "|2011-06|1    |500  |\n",
      "|2004-06|1    |597  |\n",
      "|2007-07|1    |620  |\n",
      "|2014-03|1    |260  |\n",
      "|2004-07|1    |712  |\n",
      "|2000-09|1    |734  |\n",
      "|2008-03|1    |371  |\n",
      "|2010-10|1    |543  |\n",
      "|2003-09|1    |604  |\n",
      "|2013-11|1    |448  |\n",
      "|2002-07|1    |714  |\n",
      "|2008-10|1    |531  |\n",
      "|1999-06|1    |645  |\n",
      "|2005-10|1    |589  |\n",
      "|2013-02|1    |280  |\n",
      "|2003-05|1    |522  |\n",
      "|2009-04|1    |325  |\n",
      "|2009-07|1    |581  |\n",
      "|2001-10|1    |571  |\n",
      "|2010-11|1    |479  |\n",
      "|2001-06|1    |656  |\n",
      "|2012-09|1    |407  |\n",
      "|2000-04|1    |471  |\n",
      "|2013-03|1    |237  |\n",
      "|2005-09|1    |589  |\n",
      "|2011-10|1    |450  |\n",
      "|1999-04|1    |438  |\n",
      "|2007-09|1    |657  |\n",
      "|2009-08|1    |602  |\n",
      "|2010-07|1    |620  |\n",
      "|2011-08|1    |487  |\n",
      "|2012-06|1    |382  |\n",
      "|2013-12|1    |353  |\n",
      "|2002-04|1    |418  |\n",
      "|2014-06|1    |373  |\n",
      "|2009-05|1    |391  |\n",
      "|2012-11|1    |394  |\n",
      "|2014-01|1    |360  |\n",
      "|2002-02|1    |460  |\n",
      "|2000-12|1    |640  |\n",
      "|2013-06|1    |349  |\n",
      "|2014-02|1    |326  |\n",
      "|2001-12|1    |693  |\n",
      "|2005-08|1    |731  |\n",
      "|2012-04|1    |302  |\n",
      "|2012-10|1    |408  |\n",
      "|2000-01|1    |566  |\n",
      "|2003-01|1    |540  |\n",
      "|2007-05|1    |533  |\n",
      "|2011-11|1    |455  |\n",
      "|2004-04|1    |460  |\n",
      "|2000-11|1    |537  |\n",
      "|2005-04|1    |454  |\n",
      "|2004-05|1    |566  |\n",
      "|2011-12|1    |440  |\n",
      "|2008-02|1    |353  |\n",
      "|2008-09|1    |529  |\n",
      "|2010-05|1    |427  |\n",
      "|2012-05|1    |386  |\n",
      "|2001-02|1    |458  |\n",
      "|2008-05|1    |461  |\n",
      "|2014-10|1    |438  |\n",
      "|2014-12|1    |381  |\n",
      "|2006-06|1    |602  |\n",
      "|2007-02|1    |492  |\n",
      "|2005-11|1    |590  |\n",
      "|2014-05|1    |388  |\n",
      "|2008-07|1    |610  |\n",
      "|2013-01|1    |471  |\n",
      "|2004-02|1    |399  |\n",
      "|2012-12|1    |407  |\n",
      "|2003-06|1    |605  |\n",
      "|2002-12|1    |783  |\n",
      "|2007-03|1    |462  |\n",
      "|2007-04|1    |501  |\n",
      "|2010-09|1    |456  |\n",
      "|2011-01|1    |415  |\n",
      "|2010-06|1    |463  |\n",
      "|2006-05|1    |492  |\n",
      "|1999-09|1    |789  |\n",
      "|1999-12|1    |756  |\n",
      "|2004-01|1    |534  |\n",
      "|2002-03|1    |446  |\n",
      "|2004-10|1    |644  |\n",
      "|2001-08|1    |780  |\n",
      "|2005-03|1    |472  |\n",
      "|2008-08|1    |605  |\n",
      "|2010-12|1    |461  |\n",
      "|1999-05|1    |637  |\n",
      "|2001-09|1    |588  |\n",
      "|2006-03|1    |497  |\n",
      "|2011-05|1    |333  |\n",
      "|2009-12|1    |477  |\n",
      "|2000-06|1    |596  |\n",
      "|2007-11|1    |517  |\n",
      "|2003-04|1    |430  |\n",
      "|2003-11|1    |557  |\n",
      "|2013-04|1    |230  |\n",
      "|1999-03|1    |618  |\n",
      "|2001-05|1    |498  |\n",
      "|2002-06|1    |625  |\n",
      "|2004-09|1    |662  |\n",
      "|2006-07|1    |754  |\n",
      "|2007-08|1    |672  |\n",
      "|2000-05|1    |542  |\n",
      "|2010-01|1    |418  |\n",
      "|2000-08|1    |712  |\n",
      "|2002-11|1    |600  |\n",
      "|2009-11|1    |537  |\n",
      "|2000-07|1    |740  |\n",
      "|2003-10|1    |615  |\n",
      "|2004-12|1    |629  |\n",
      "|2008-06|1    |478  |\n",
      "|2010-04|1    |313  |\n",
      "|1999-10|1    |648  |\n",
      "|2000-03|1    |419  |\n",
      "|2013-07|1    |559  |\n",
      "|2014-08|1    |517  |\n",
      "|2013-08|1    |491  |\n",
      "|2007-01|1    |492  |\n",
      "|2014-07|1    |458  |\n",
      "|2005-01|1    |538  |\n",
      "|2010-02|1    |327  |\n",
      "|2013-09|1    |488  |\n",
      "|2001-03|1    |451  |\n",
      "|2006-12|1    |477  |\n",
      "|2003-03|1    |501  |\n",
      "|1999-11|1    |659  |\n",
      "|2006-01|1    |506  |\n",
      "|2009-01|1    |412  |\n",
      "|2003-12|1    |581  |\n",
      "|2011-09|1    |452  |\n",
      "|2012-07|1    |525  |\n",
      "|2005-05|1    |595  |\n",
      "|2006-09|1    |584  |\n",
      "|2002-10|1    |647  |\n",
      "|2007-10|1    |620  |\n",
      "|2009-06|1    |468  |\n",
      "|2002-01|1    |510  |\n",
      "|2004-11|1    |593  |\n",
      "|1999-08|1    |730  |\n",
      "|2001-07|1    |594  |\n",
      "|2001-11|1    |573  |\n",
      "|2004-03|1    |400  |\n",
      "|2008-04|1    |362  |\n",
      "|2009-09|1    |466  |\n",
      "|2002-08|1    |743  |\n",
      "|2002-05|1    |530  |\n",
      "|2006-04|1    |488  |\n",
      "|2006-02|1    |600  |\n",
      "|2010-08|1    |581  |\n",
      "|1999-02|1    |482  |\n",
      "|2009-03|1    |294  |\n",
      "|2014-04|1    |246  |\n",
      "|2006-11|1    |495  |\n",
      "|2010-03|1    |334  |\n",
      "|2014-11|1    |347  |\n",
      "|2000-02|1    |437  |\n",
      "|2009-10|1    |435  |\n",
      "|2006-10|1    |626  |\n",
      "|2012-08|1    |499  |\n",
      "|2011-02|1    |339  |\n",
      "|2004-08|1    |730  |\n",
      "|2001-04|1    |448  |\n",
      "|2013-10|1    |440  |\n",
      "|2012-02|1    |317  |\n",
      "|2007-06|1    |593  |\n",
      "|2008-12|1    |498  |\n",
      "|2005-07|1    |638  |\n",
      "|2011-04|1    |299  |\n",
      "|2005-12|1    |689  |\n",
      "|2001-01|1    |408  |\n",
      "|2013-05|1    |381  |\n",
      "|2009-02|1    |335  |\n",
      "|2011-07|1    |573  |\n",
      "+-------+-----+-----+\n",
      "\n",
      "+-------+-----+-----+\n",
      "|Date   |C_SEV|count|\n",
      "+-------+-----+-----+\n",
      "|2007-04|2    |24010|\n",
      "|2008-09|2    |28351|\n",
      "|2009-05|2    |25499|\n",
      "|2009-08|2    |31003|\n",
      "|2002-06|2    |36646|\n",
      "|2008-03|2    |24432|\n",
      "|2003-07|2    |35872|\n",
      "|2001-06|2    |35614|\n",
      "|2012-02|2    |21916|\n",
      "|2006-06|2    |34166|\n",
      "|2004-07|2    |34926|\n",
      "|2004-08|2    |35185|\n",
      "|1999-09|2    |35687|\n",
      "|2009-02|2    |22064|\n",
      "|2001-03|2    |29701|\n",
      "|2005-10|2    |32465|\n",
      "|2008-02|2    |26999|\n",
      "|2014-03|2    |21515|\n",
      "|2014-06|2    |23898|\n",
      "|2009-12|2    |29367|\n",
      "|2005-05|2    |29899|\n",
      "|2009-06|2    |29601|\n",
      "|2010-01|2    |25115|\n",
      "|2013-11|2    |27075|\n",
      "|2000-08|2    |37677|\n",
      "|2000-11|2    |34675|\n",
      "|2012-12|2    |28102|\n",
      "|1999-01|2    |33104|\n",
      "|2003-04|2    |26264|\n",
      "|2008-11|2    |28513|\n",
      "|2012-09|2    |28083|\n",
      "|2003-12|2    |33878|\n",
      "|2000-01|2    |35111|\n",
      "|2011-03|2    |22984|\n",
      "|2012-11|2    |27091|\n",
      "|1999-07|2    |38045|\n",
      "|2000-07|2    |38204|\n",
      "|2012-05|2    |26248|\n",
      "|2014-11|2    |26465|\n",
      "|2013-02|2    |21893|\n",
      "|2000-05|2    |33076|\n",
      "|2001-07|2    |36614|\n",
      "|2003-02|2    |31126|\n",
      "|2011-06|2    |27735|\n",
      "|2006-02|2    |26396|\n",
      "|2006-08|2    |35158|\n",
      "|2011-10|2    |27923|\n",
      "|2008-05|2    |25773|\n",
      "|2012-01|2    |26603|\n",
      "|2011-08|2    |29106|\n",
      "|1999-11|2    |34200|\n",
      "|2006-03|2    |26221|\n",
      "|2007-03|2    |26487|\n",
      "|2013-04|2    |20112|\n",
      "|1999-10|2    |35621|\n",
      "|2010-02|2    |22230|\n",
      "|2011-05|2    |24435|\n",
      "|2012-06|2    |28198|\n",
      "|2001-10|2    |35299|\n",
      "|2011-11|2    |28378|\n",
      "|2001-11|2    |33655|\n",
      "|2002-05|2    |32147|\n",
      "|2010-05|2    |27836|\n",
      "|2000-12|2    |39343|\n",
      "|2005-04|2    |26325|\n",
      "|2007-05|2    |28710|\n",
      "|1999-02|2    |26056|\n",
      "|2002-09|2    |36225|\n",
      "|2003-10|2    |34208|\n",
      "|2000-03|2    |27368|\n",
      "|2007-08|2    |33241|\n",
      "|2005-12|2    |34653|\n",
      "|2014-02|2    |22942|\n",
      "|2001-02|2    |30162|\n",
      "|2005-09|2    |32547|\n",
      "|2006-11|2    |31874|\n",
      "|2009-03|2    |22227|\n",
      "|2014-12|2    |25170|\n",
      "|2010-10|2    |29527|\n",
      "|2010-03|2    |21177|\n",
      "|2008-06|2    |28809|\n",
      "|2011-01|2    |28398|\n",
      "|2008-08|2    |30702|\n",
      "|2013-10|2    |28472|\n",
      "|1999-06|2    |36384|\n",
      "|2001-01|2    |30897|\n",
      "|2005-06|2    |34214|\n",
      "|2009-11|2    |26349|\n",
      "|2006-05|2    |30748|\n",
      "|2014-04|2    |17595|\n",
      "|2013-09|2    |28062|\n",
      "|2009-07|2    |29555|\n",
      "|2002-11|2    |35728|\n",
      "|2001-09|2    |34203|\n",
      "|2010-12|2    |28848|\n",
      "|2013-07|2    |28774|\n",
      "|2004-04|2    |24641|\n",
      "|2007-06|2    |32176|\n",
      "|2013-01|2    |26583|\n",
      "|2002-12|2    |37218|\n",
      "|2007-10|2    |31144|\n",
      "|2014-09|2    |25988|\n",
      "|2001-12|2    |37796|\n",
      "|2004-06|2    |33350|\n",
      "|2002-10|2    |35629|\n",
      "|2004-03|2    |26119|\n",
      "|2014-07|2    |26121|\n",
      "|2013-08|2    |29228|\n",
      "|2006-04|2    |25755|\n",
      "|2006-10|2    |33744|\n",
      "|2010-07|2    |31028|\n",
      "|2001-05|2    |33081|\n",
      "|1999-04|2    |27971|\n",
      "|2008-07|2    |29325|\n",
      "|1999-03|2    |28836|\n",
      "|2003-06|2    |35407|\n",
      "|2012-10|2    |28401|\n",
      "|2012-07|2    |29203|\n",
      "|2000-09|2    |37136|\n",
      "|2002-01|2    |32698|\n",
      "|2005-07|2    |35466|\n",
      "|2014-05|2    |21669|\n",
      "|2013-03|2    |21977|\n",
      "|2010-09|2    |29164|\n",
      "|2004-11|2    |30689|\n",
      "|2007-02|2    |29461|\n",
      "|2012-03|2    |22863|\n",
      "|2006-07|2    |34126|\n",
      "|2008-01|2    |28421|\n",
      "|2004-09|2    |32656|\n",
      "|2004-02|2    |26683|\n",
      "|2001-08|2    |38444|\n",
      "|2003-01|2    |38543|\n",
      "|1999-05|2    |34844|\n",
      "|2002-04|2    |27407|\n",
      "|2011-12|2    |29098|\n",
      "|2001-04|2    |27184|\n",
      "|2014-01|2    |28057|\n",
      "|2000-10|2    |35276|\n",
      "|2009-01|2    |28747|\n",
      "|2005-02|2    |25874|\n",
      "|2003-03|2    |29985|\n",
      "|2004-12|2    |35753|\n",
      "|2005-03|2    |26877|\n",
      "|2006-12|2    |32093|\n",
      "|2010-06|2    |30435|\n",
      "|2009-10|2    |28891|\n",
      "|2011-02|2    |24337|\n",
      "|1999-08|2    |38441|\n",
      "|2000-06|2    |37938|\n",
      "|2006-09|2    |32760|\n",
      "|2013-05|2    |25252|\n",
      "|2004-01|2    |37911|\n",
      "|2002-07|2    |38124|\n",
      "|2002-02|2    |28779|\n",
      "|2003-09|2    |33869|\n",
      "|2012-08|2    |29719|\n",
      "|2002-03|2    |32527|\n",
      "|2003-11|2    |33345|\n",
      "|2005-01|2    |33158|\n",
      "|2009-04|2    |22660|\n",
      "|2006-01|2    |28570|\n",
      "|2000-02|2    |30014|\n",
      "|2005-11|2    |32715|\n",
      "|1999-12|2    |36710|\n",
      "|2010-11|2    |28995|\n",
      "|2007-11|2    |31047|\n",
      "|2008-10|2    |28936|\n",
      "|2011-04|2    |20552|\n",
      "|2014-10|2    |27032|\n",
      "|2007-07|2    |33108|\n",
      "|2009-09|2    |29449|\n",
      "|2003-05|2    |31650|\n",
      "|2005-08|2    |35291|\n",
      "|2008-12|2    |30254|\n",
      "|2007-12|2    |30529|\n",
      "|2011-09|2    |28152|\n",
      "|2010-04|2    |23655|\n",
      "|2013-06|2    |26815|\n",
      "|2000-04|2    |29220|\n",
      "|2004-10|2    |34521|\n",
      "|2013-12|2    |28062|\n",
      "|2014-08|2    |26636|\n",
      "|2002-08|2    |39707|\n",
      "|2012-04|2    |21068|\n",
      "|2007-01|2    |30431|\n",
      "|2007-09|2    |31379|\n",
      "|2010-08|2    |31084|\n",
      "|2011-07|2    |28933|\n",
      "|2003-08|2    |36015|\n",
      "|2008-04|2    |21929|\n",
      "|2004-05|2    |29686|\n",
      "+-------+-----+-----+\n",
      "\n"
     ]
    }
   ],
   "source": [
    "severity = df.select(concat(col(\"C_YEAR\"), lit(\"-\"), col(\"C_MNTH\")).alias(\"Date\"), \"C_SEV\")\n",
    "severity = severity.groupBy(\"Date\",\"C_SEV\").count()\n",
    "\n",
    "severity_high = severity.filter(col(\"C_SEV\") == 1)\n",
    "severity_high.show(severity_high.count(),False)\n",
    "\n",
    "severity_low = severity.filter(col(\"C_SEV\") == 2)\n",
    "severity_low.show(severity_low.count(),False)"
   ]
  },
  {
   "cell_type": "code",
   "execution_count": 93,
   "metadata": {},
   "outputs": [],
   "source": [
    "severity_high_pandas_df = severity_high.select(\"*\").toPandas()\n",
    "severity_low_pandas_df = severity_low.select(\"*\").toPandas()"
   ]
  },
  {
   "cell_type": "code",
   "execution_count": 105,
   "metadata": {},
   "outputs": [
    {
     "data": {
      "image/png": "[encoded data removed]",
      "text/plain": [
       "<Figure size 1080x360 with 1 Axes>"
      ]
     },
     "metadata": {},
     "output_type": "display_data"
    }
   ],
   "source": [
    "plot_severity_high = severity_high_pandas_df.plot(figsize=(15,5),label = \"fatal\", x=\"Date\",y=\"count\",title='Collisions each month',color='red')\n",
    "plot_severity_low = severity_low_pandas_df.plot(ax = plot_severity_high, label = \"non-fatal\", figsize=(15,5),x=\"Date\",y=\"count\",title='Collisions each month',color='blue')\n",
    "plot_severity_high.set_xlabel(\"Month\")\n",
    "plot_severity_high.set_ylabel(\"Number of collisions\");"
   ]
  },
  {
   "cell_type": "markdown",
   "metadata": {},
   "source": [
    "# No. of Collisions depending upon weather conditions"
   ]
  },
  {
   "cell_type": "code",
   "execution_count": 10,
   "metadata": {},
   "outputs": [
    {
     "name": "stdout",
     "output_type": "stream",
     "text": [
      "+-----------------+-------+\n",
      "|Weather_Condition|count  |\n",
      "+-----------------+-------+\n",
      "|Q                |15011  |\n",
      "|7                |15164  |\n",
      "|5                |30330  |\n",
      "|6                |82438  |\n",
      "|U                |87769  |\n",
      "|4                |354597 |\n",
      "|3                |600099 |\n",
      "|2                |600220 |\n",
      "|1                |4074392|\n",
      "+-----------------+-------+\n",
      "\n"
     ]
    }
   ],
   "source": [
    "collisions_weather = df.select(col(\"C_WTHR\").alias(\"Weather_Condition\")).groupBy(\"Weather_Condition\").count()\n",
    "collisions_weather.sort(\"count\").show(collisions_month.count(),False)"
   ]
  },
  {
   "cell_type": "markdown",
   "metadata": {},
   "source": [
    "1 Clear and sunny\n",
    "2 Overcast, cloudy but no precipitation\n",
    "3 Raining\n",
    "4 Snowing, not including drifting snow\n",
    "5 Freezing rain, sleet, hail\n",
    "6 Visibility limitation e.g. drifting snow, fog, smog, dust, smoke, mist\n",
    "7 Strong wind\n",
    "Q Choice is other than the preceding values\n",
    "U Unknown\n",
    "X Jurisdiction does not provide this data element"
   ]
  },
  {
   "cell_type": "markdown",
   "metadata": {},
   "source": [
    "# Severity of collisions based on weather"
   ]
  },
  {
   "cell_type": "code",
   "execution_count": 107,
   "metadata": {},
   "outputs": [
    {
     "name": "stdout",
     "output_type": "stream",
     "text": [
      "+-----------------+-----+-----+\n",
      "|Weather_Condition|C_SEV|count|\n",
      "+-----------------+-----+-----+\n",
      "|Q                |1    |250  |\n",
      "|7                |1    |580  |\n",
      "|U                |1    |781  |\n",
      "|5                |1    |810  |\n",
      "|6                |1    |3447 |\n",
      "|4                |1    |6907 |\n",
      "|3                |1    |8262 |\n",
      "|2                |1    |12518|\n",
      "|1                |1    |65074|\n",
      "+-----------------+-----+-----+\n",
      "\n",
      "+-----------------+-----+-------+\n",
      "|Weather_Condition|C_SEV|count  |\n",
      "+-----------------+-----+-------+\n",
      "|7                |2    |14584  |\n",
      "|Q                |2    |14761  |\n",
      "|5                |2    |29520  |\n",
      "|6                |2    |78991  |\n",
      "|U                |2    |86988  |\n",
      "|4                |2    |347690 |\n",
      "|2                |2    |587702 |\n",
      "|3                |2    |591837 |\n",
      "|1                |2    |4009318|\n",
      "+-----------------+-----+-------+\n",
      "\n"
     ]
    }
   ],
   "source": [
    "sev_collisions_weather = df.select(col(\"C_WTHR\").alias(\"Weather_Condition\"),col(\"C_SEV\")).groupBy(\"Weather_Condition\",\"C_SEV\").count()\n",
    "sev_collisions_weather = sev_collisions_weather.sort(\"count\")\n",
    "\n",
    "sev_high_collisions_weather = sev_collisions_weather.filter(col(\"C_SEV\") == 1)\n",
    "sev_low_collisions_weather = sev_collisions_weather.filter(col(\"C_SEV\") == 2)\n",
    "\n",
    "sev_high_collisions_weather.show(sev_high_collisions_weather.count(),False)\n",
    "sev_low_collisions_weather.show(sev_low_collisions_weather.count(),False)"
   ]
  },
  {
   "cell_type": "code",
   "execution_count": 108,
   "metadata": {},
   "outputs": [],
   "source": [
    "sev_high_collisions_weather_pandas_df = sev_high_collisions_weather.select(\"*\").toPandas()\n",
    "sev_low_collisions_weather_pandas_df = sev_low_collisions_weather.select(\"*\").toPandas()"
   ]
  },
  {
   "cell_type": "code",
   "execution_count": 113,
   "metadata": {},
   "outputs": [
    {
     "data": {
      "image/png": "[encoded data removed]",
      "text/plain": [
       "<Figure size 1080x360 with 1 Axes>"
      ]
     },
     "metadata": {},
     "output_type": "display_data"
    }
   ],
   "source": [
    "plot_severity_high_weather = sev_high_collisions_weather_pandas_df.plot(figsize=(15,5),label = \"fatal\", x=\"Weather_Condition\",y=\"count\",title='Collisions each month',color='red')\n",
    "plot_severity_low_weather = sev_low_collisions_weather_pandas_df.plot(ax = plot_severity_high_weather, label = \"non-fatal\", figsize=(15,5),x=\"Weather_Condition\",y=\"count\",title='Collisions each month',color='blue')\n",
    "plot_severity_high_weather.set_xlabel(\"Weather Condition\")\n",
    "plot_severity_high_weather.set_ylabel(\"Number of collisions\");"
   ]
  },
  {
   "cell_type": "markdown",
   "metadata": {},
   "source": [
    "# Severity by Day of Week"
   ]
  },
  {
   "cell_type": "code",
   "execution_count": null,
   "metadata": {},
   "outputs": [],
   "source": []
  },
  {
   "cell_type": "code",
   "execution_count": null,
   "metadata": {},
   "outputs": [],
   "source": []
  },
  {
   "cell_type": "code",
   "execution_count": null,
   "metadata": {},
   "outputs": [],
   "source": []
  },
  {
   "cell_type": "code",
   "execution_count": null,
   "metadata": {},
   "outputs": [],
   "source": []
  },
  {
   "cell_type": "code",
   "execution_count": null,
   "metadata": {},
   "outputs": [],
   "source": []
  },
  {
   "cell_type": "code",
   "execution_count": null,
   "metadata": {},
   "outputs": [],
   "source": []
  },
  {
   "cell_type": "code",
   "execution_count": null,
   "metadata": {},
   "outputs": [],
   "source": []
  },
  {
   "cell_type": "code",
   "execution_count": null,
   "metadata": {},
   "outputs": [],
   "source": []
  },
  {
   "cell_type": "code",
   "execution_count": null,
   "metadata": {},
   "outputs": [],
   "source": []
  },
  {
   "cell_type": "code",
   "execution_count": null,
   "metadata": {},
   "outputs": [],
   "source": []
  },
  {
   "cell_type": "code",
   "execution_count": null,
   "metadata": {},
   "outputs": [],
   "source": []
  },
  {
   "cell_type": "code",
   "execution_count": null,
   "metadata": {},
   "outputs": [],
   "source": []
  },
  {
   "cell_type": "code",
   "execution_count": null,
   "metadata": {},
   "outputs": [],
   "source": []
  },
  {
   "cell_type": "code",
   "execution_count": null,
   "metadata": {},
   "outputs": [],
   "source": []
  },
  {
   "cell_type": "code",
   "execution_count": null,
   "metadata": {},
   "outputs": [],
   "source": []
  },
  {
   "cell_type": "code",
   "execution_count": null,
   "metadata": {},
   "outputs": [],
   "source": []
  },
  {
   "cell_type": "code",
   "execution_count": null,
   "metadata": {},
   "outputs": [],
   "source": []
  },
  {
   "cell_type": "code",
   "execution_count": null,
   "metadata": {},
   "outputs": [],
   "source": []
  },
  {
   "cell_type": "code",
   "execution_count": null,
   "metadata": {},
   "outputs": [],
   "source": []
  },
  {
   "cell_type": "code",
   "execution_count": null,
   "metadata": {},
   "outputs": [],
   "source": []
  },
  {
   "cell_type": "code",
   "execution_count": null,
   "metadata": {},
   "outputs": [],
   "source": []
  },
  {
   "cell_type": "code",
   "execution_count": null,
   "metadata": {},
   "outputs": [],
   "source": []
  }
 ],
 "metadata": {
  "kernelspec": {
   "display_name": "Python 3",
   "language": "python",
   "name": "python3"
  },
  "language_info": {
   "codemirror_mode": {
    "name": "ipython",
    "version": 3
   },
   "file_extension": ".py",
   "mimetype": "text/x-python",
   "name": "python",
   "nbconvert_exporter": "python",
   "pygments_lexer": "ipython3",
   "version": "3.5.5"
  }
 },
 "nbformat": 4,
 "nbformat_minor": 2
}
